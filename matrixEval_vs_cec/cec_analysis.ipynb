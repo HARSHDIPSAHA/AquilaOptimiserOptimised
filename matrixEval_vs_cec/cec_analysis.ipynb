{
 "cells": [
  {
   "cell_type": "code",
   "execution_count": null,
   "id": "cb44d371",
   "metadata": {
    "vscode": {
     "languageId": "plaintext"
    }
   },
   "outputs": [],
   "source": [
    "import pandas as pd\n",
    "\n",
    "results = pd.read_csv('ao_results.csv')      # shape: (50 runs) × (30 functions)\n",
    "stats   = pd.read_csv('ao_statistics.csv', index_col=0)\n"
   ]
  },
  {
   "cell_type": "code",
   "execution_count": null,
   "id": "2da4ab21",
   "metadata": {
    "vscode": {
     "languageId": "plaintext"
    }
   },
   "outputs": [],
   "source": [
    "# example mapping\n",
    "cec2014 = [f'F{i}2014' for i in range(1,14)]\n",
    "cec2017 = [f'F{i}2017' for i in range(1,10)]\n",
    "cec2020 = [f'F{i}2020' for i in range(1,5)]\n",
    "cec2022 = [f'F{i}2022' for i in range(1,5)]\n",
    "\n",
    "stats.loc[cec2014]\n",
    "stats.loc[cec2017]\n",
    "# … etc.\n"
   ]
  },
  {
   "cell_type": "code",
   "execution_count": null,
   "id": "e5c513bb",
   "metadata": {
    "vscode": {
     "languageId": "plaintext"
    }
   },
   "outputs": [],
   "source": [
    "import matplotlib.pyplot as plt\n",
    "\n",
    "plt.figure(figsize=(12,6))\n",
    "results[cec2014].boxplot()\n",
    "plt.title('CEC‑2014: Distribution of Best Fitness over 50 Runs')\n",
    "plt.ylabel('Fitness Value')\n",
    "plt.xticks(rotation=45)\n",
    "plt.tight_layout()\n",
    "plt.show()\n"
   ]
  },
  {
   "cell_type": "code",
   "execution_count": null,
   "id": "0bd4c1ad",
   "metadata": {
    "vscode": {
     "languageId": "plaintext"
    }
   },
   "outputs": [],
   "source": [
    "stats_subset = stats.loc[cec2014]\n",
    "stats_subset[['Mean','Median']].plot.bar(figsize=(10,5))\n",
    "plt.title('CEC‑2014: Mean vs. Median Best Fitness')\n",
    "plt.ylabel('Fitness Value')\n",
    "plt.xticks(rotation=45)\n",
    "plt.tight_layout()\n",
    "plt.show()\n"
   ]
  },
  {
   "cell_type": "code",
   "execution_count": null,
   "id": "012539cb",
   "metadata": {
    "vscode": {
     "languageId": "plaintext"
    }
   },
   "outputs": [],
   "source": [
    "import numpy as np\n",
    "\n",
    "for suite,name_list,color in [\n",
    "    ('CEC‑2014', cec2014, 'C0'),\n",
    "    ('CEC‑2017', cec2017, 'C1'),\n",
    "    ('CEC‑2020', cec2020, 'C2'),\n",
    "    ('CEC‑2022', cec2022, 'C3'),\n",
    "]:\n",
    "    # average across functions and across runs\n",
    "    all_curves = []\n",
    "    for fn in name_list:\n",
    "        # convergence_data[fn] is list of 5 lists\n",
    "        all_curves.append(np.mean(convergence_data[fn], axis=0))\n",
    "    mean_curve = np.mean(all_curves, axis=0)\n",
    "    plt.plot(mean_curve, label=suite, color=color)\n",
    "\n",
    "plt.xlabel('Iteration')\n",
    "plt.ylabel('Best Fitness')\n",
    "plt.title('Average Convergence per CEC Suite')\n",
    "plt.legend()\n",
    "plt.grid(True)\n",
    "plt.show()\n"
   ]
  }
 ],
 "metadata": {
  "language_info": {
   "name": "python"
  }
 },
 "nbformat": 4,
 "nbformat_minor": 5
}
